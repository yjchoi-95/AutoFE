{
 "cells": [
  {
   "cell_type": "markdown",
   "id": "34a563f7-134f-48d4-a345-508faf08c477",
   "metadata": {},
   "source": [
    "## Import"
   ]
  },
  {
   "cell_type": "code",
   "execution_count": 1,
   "id": "184bf49d-56d7-4fe0-ba62-788ae1366345",
   "metadata": {},
   "outputs": [],
   "source": [
    "from sklearn.preprocessing import StandardScaler\n",
    "from glob import glob\n",
    "\n",
    "import tensorflow as tf\n",
    "import pandas as pd\n",
    "import numpy as np\n",
    "import os"
   ]
  },
  {
   "cell_type": "code",
   "execution_count": null,
   "id": "2e44919a-34e8-4d61-a242-50721e16666c",
   "metadata": {},
   "outputs": [],
   "source": []
  },
  {
   "cell_type": "markdown",
   "id": "b601ae91-01e8-4451-8314-5cb494fb6345",
   "metadata": {},
   "source": [
    "## Load data\n",
    "\n",
    "* url: https://www.openml.org/search?type=study"
   ]
  },
  {
   "cell_type": "code",
   "execution_count": 2,
   "id": "19b2e4e2-a03a-4cd4-a8d2-c6e92e1ae6fa",
   "metadata": {},
   "outputs": [
    {
     "data": {
      "text/plain": [
       "'C:\\\\Users\\\\PC0\\\\Documents\\\\GitHub\\\\AutoFE\\\\ipynb'"
      ]
     },
     "execution_count": 2,
     "metadata": {},
     "output_type": "execute_result"
    }
   ],
   "source": [
    "os.getcwd()"
   ]
  },
  {
   "cell_type": "code",
   "execution_count": 3,
   "id": "09e021e9-67eb-4c7d-ab5b-496b5b0e13c5",
   "metadata": {},
   "outputs": [],
   "source": [
    "data_path = \"../datasets/\"\n",
    "file_list = glob(data_path + \"*\")"
   ]
  },
  {
   "cell_type": "code",
   "execution_count": 4,
   "id": "e1874ea6-f3a6-48fc-84ae-619e3337108a",
   "metadata": {},
   "outputs": [
    {
     "data": {
      "text/plain": [
       "'openml_586.csv'"
      ]
     },
     "execution_count": 4,
     "metadata": {},
     "output_type": "execute_result"
    }
   ],
   "source": [
    "file_name = file_list[0].split(\"\\\\\")[1]\n",
    "file_name"
   ]
  },
  {
   "cell_type": "code",
   "execution_count": 6,
   "id": "169069f1-ea91-487c-8f0d-e09f6e59fc74",
   "metadata": {},
   "outputs": [
    {
     "name": "stdout",
     "output_type": "stream",
     "text": [
      "openml_586\n",
      "openml_589\n",
      "openml_607\n",
      "openml_616\n",
      "openml_618\n",
      "openml_620\n",
      "openml_637\n",
      "steel_plate\n",
      "wine_quality_red\n",
      "wine_quality_white\n"
     ]
    }
   ],
   "source": [
    "for file_path in glob(data_path + \"*\"):\n",
    "    file_name = file_path.split(\"\\\\\")[1]\n",
    "    file_name = file_name.split(\".csv\")[0]\n",
    "    globals()[file_name] = pd.read_csv(file_path)\n",
    "    globals()[file_name].rename(columns = {globals()[file_name].columns[globals()[file_name].shape[1]-1]:\"target\"}, inplace = True)\n",
    "    print(file_name)"
   ]
  },
  {
   "cell_type": "code",
   "execution_count": null,
   "id": "2ff95f92-e5ef-43de-a972-d237c0bcbb2b",
   "metadata": {},
   "outputs": [],
   "source": []
  },
  {
   "cell_type": "markdown",
   "id": "293cd4da-94b4-4a4e-86ba-88d64f4dd7a1",
   "metadata": {},
   "source": [
    "## Baseline performance"
   ]
  },
  {
   "cell_type": "code",
   "execution_count": 24,
   "id": "598176b4-4581-41d9-8d51-8c49eb66fc2f",
   "metadata": {},
   "outputs": [],
   "source": [
    "from sklearn.model_selection import train_test_split, cross_validate, KFold, cross_val_score\n",
    "from sklearn.ensemble import RandomForestRegressor\n",
    "from sklearn.linear_model import Ridge, Lasso, ElasticNet\n",
    "from sklearn.metrics import make_scorer, SCORERS\n",
    "from xgboost import XGBRegressor, XGBClassifier\n",
    "from lightgbm import LGBMRegressor, LGBMClassifier\n",
    "from ngboost import NGBRegressor, NGBClassifier\n",
    "from tqdm import tqdm_notebook, tqdm"
   ]
  },
  {
   "cell_type": "code",
   "execution_count": 25,
   "id": "60fa721d-64db-4ca7-aaa7-57693481b28d",
   "metadata": {},
   "outputs": [],
   "source": [
    "model_xgb_reg = XGBRegressor()\n",
    "model_lgbm_reg = LGBMRegressor()\n",
    "model_rf_reg = RandomForestRegressor()\n",
    "model_ngb_reg = NGBRegressor()"
   ]
  },
  {
   "cell_type": "code",
   "execution_count": 26,
   "id": "2012424d-bd6d-4535-bf53-3f9ffbe1a103",
   "metadata": {},
   "outputs": [],
   "source": [
    "def split_function(data) :\n",
    "    data_x = data.loc[:, ~data.columns.isin(['target'])]\n",
    "    data_y = data.loc[:, data.columns.isin(['target'])]\n",
    "    \n",
    "    X_train, X_test, y_train, y_test = train_test_split(data_x, data_y, test_size=0.25, random_state=42)\n",
    "    \n",
    "    return X_train, X_test, y_train, y_test"
   ]
  },
  {
   "cell_type": "code",
   "execution_count": 54,
   "id": "a282458a-6b23-4095-9c90-20ebf9ce3461",
   "metadata": {},
   "outputs": [],
   "source": [
    "data_sets = [openml_586, openml_589, openml_607, openml_616, openml_618, openml_620, openml_637]#, wine_quality_red, wine_quality_white]\n",
    "data_keys = [\"openml_586\", \"openml_589\", \"openml_607\", \"openml_616\", \"openml_618\", \"openml_620\", \"openml_637\"]#, \"wine_quality_red\", \"wine_quality_white\"]"
   ]
  },
  {
   "cell_type": "code",
   "execution_count": 55,
   "id": "d674a7cf-cb2f-437b-ba58-73224ce7b2d3",
   "metadata": {},
   "outputs": [],
   "source": [
    "def total_cv_results(model, data_keys, datasets):\n",
    "    for keys, data in zip(data_keys, datasets):\n",
    "        X_train, X_test, y_train, y_test = split_function(data)\n",
    "        kfold = KFold(n_splits=5, shuffle=True, random_state=0)\n",
    "        results = cross_val_score(model, X_train, y_train, cv=kfold)\n",
    "        print(keys, np.mean(results))"
   ]
  },
  {
   "cell_type": "code",
   "execution_count": 56,
   "id": "cd1d533f-4128-4a54-88ba-e14f25468002",
   "metadata": {},
   "outputs": [
    {
     "name": "stdout",
     "output_type": "stream",
     "text": [
      "openml_586 0.8901435860726974\n",
      "openml_589 0.8901550101733576\n",
      "openml_607 0.8909622699507083\n",
      "openml_616 0.8178318490655471\n",
      "openml_618 0.8784853992316893\n",
      "openml_620 0.8816393012336887\n",
      "openml_637 0.800049487707651\n"
     ]
    }
   ],
   "source": [
    "total_cv_results(model_xgb_reg, data_keys, data_sets)"
   ]
  },
  {
   "cell_type": "code",
   "execution_count": null,
   "id": "1e4cd777-7fdd-41df-acff-c42958d552d2",
   "metadata": {},
   "outputs": [],
   "source": []
  },
  {
   "cell_type": "markdown",
   "id": "8fb3bcb5-3e04-478c-818a-fecab6ce0390",
   "metadata": {},
   "source": [
    "### Make states"
   ]
  },
  {
   "cell_type": "code",
   "execution_count": 59,
   "id": "ddffd45a-e5e8-446c-be54-99a2acd9d759",
   "metadata": {},
   "outputs": [
    {
     "data": {
      "text/plain": [
       "dict_keys(['explained_variance', 'r2', 'max_error', 'neg_median_absolute_error', 'neg_mean_absolute_error', 'neg_mean_absolute_percentage_error', 'neg_mean_squared_error', 'neg_mean_squared_log_error', 'neg_root_mean_squared_error', 'neg_mean_poisson_deviance', 'neg_mean_gamma_deviance', 'accuracy', 'top_k_accuracy', 'roc_auc', 'roc_auc_ovr', 'roc_auc_ovo', 'roc_auc_ovr_weighted', 'roc_auc_ovo_weighted', 'balanced_accuracy', 'average_precision', 'neg_log_loss', 'neg_brier_score', 'adjusted_rand_score', 'rand_score', 'homogeneity_score', 'completeness_score', 'v_measure_score', 'mutual_info_score', 'adjusted_mutual_info_score', 'normalized_mutual_info_score', 'fowlkes_mallows_score', 'precision', 'precision_macro', 'precision_micro', 'precision_samples', 'precision_weighted', 'recall', 'recall_macro', 'recall_micro', 'recall_samples', 'recall_weighted', 'f1', 'f1_macro', 'f1_micro', 'f1_samples', 'f1_weighted', 'jaccard', 'jaccard_macro', 'jaccard_micro', 'jaccard_samples', 'jaccard_weighted'])"
      ]
     },
     "execution_count": 59,
     "metadata": {},
     "output_type": "execute_result"
    }
   ],
   "source": [
    "SCORERS.keys()"
   ]
  },
  {
   "cell_type": "code",
   "execution_count": 58,
   "id": "9be23978-9a77-46e6-8a97-c4d36885bce5",
   "metadata": {},
   "outputs": [
    {
     "name": "stdout",
     "output_type": "stream",
     "text": [
      "openml_586 0.8901435860726974\n",
      "openml_589 0.8901550101733576\n",
      "openml_607 0.8909622699507083\n",
      "openml_616 0.8178318490655471\n",
      "openml_618 0.8784853992316893\n",
      "openml_620 0.8816393012336887\n",
      "openml_637 0.800049487707651\n"
     ]
    }
   ],
   "source": [
    "scaler = StandardScaler()\n",
    "\n",
    "for keys, data in zip(data_keys, data_sets):\n",
    "    X_train, X_test, y_train, y_test = split_function(data)\n",
    "    \n",
    "    train_x_sc = scaler.fit_transform(X_train)\n",
    "    test_x_sc = scaler.fit_transform(X_test)\n",
    "    \n",
    "    kfold = KFold(n_splits=5, shuffle=True, random_state=0)\n",
    "    \n",
    "    results = cross_val_score(model_xgb_reg, train_x_sc, y_train, cv=kfold)\n",
    "    \n",
    "    print(keys, np.mean(results))"
   ]
  },
  {
   "cell_type": "code",
   "execution_count": null,
   "id": "17cc2d36-b4ce-455f-9041-027811b275bd",
   "metadata": {},
   "outputs": [],
   "source": []
  },
  {
   "cell_type": "code",
   "execution_count": null,
   "id": "80c28a06-eecd-4b9f-b86f-947888bac1fe",
   "metadata": {},
   "outputs": [],
   "source": [
    "scaled_x_pd = pd.DataFrame(scaled_x)\n",
    "scaled_x_pd.columns = total_data_x.columns[:(total_data_x.shape[1])]\n",
    "scaled_x_pd['class_vector'] = class_vector"
   ]
  },
  {
   "cell_type": "code",
   "execution_count": null,
   "id": "bb45ef0f-ae2b-4364-87c2-049ae57a0573",
   "metadata": {},
   "outputs": [],
   "source": [
    "std_vector = {x:np.std(scaled_x_pd.groupby(\"class_vector\")[x].mean()) for x in scaled_x_pd.columns if x != \"class_vector\"}"
   ]
  },
  {
   "cell_type": "code",
   "execution_count": null,
   "id": "c26eabd6-dcb8-4fc5-9fc1-635b2c101b67",
   "metadata": {},
   "outputs": [],
   "source": [
    "std_df = pd.DataFrame.from_dict(std_vector, orient=\"index\").reset_index()\n",
    "std_df.columns = ['features', 'values']\n",
    "#std_df = std_df.sort_values('values', ascending= False)\n",
    "std_df.index = [x for x in range(std_df.shape[0])]"
   ]
  },
  {
   "cell_type": "code",
   "execution_count": null,
   "id": "528e98a8-aeb2-4590-b1a0-48ad184b3832",
   "metadata": {},
   "outputs": [],
   "source": [
    "feature_names = std_df.features\n",
    "total_df = std_df.T.iloc[1:,:].reset_index()\n",
    "change_col = [\"features\"]\n",
    "change_col.extend(list(feature_names))\n",
    "total_df.columns = change_col\n",
    "total_df = total_df.iloc[:,1:]"
   ]
  },
  {
   "cell_type": "code",
   "execution_count": null,
   "id": "c7755bf6-e0ff-4063-baf9-23033c2e393b",
   "metadata": {},
   "outputs": [],
   "source": [
    "## original data의 표준편차 / 평균\n",
    "state_2 = pd.DataFrame(np.std(total_data_x) / np.mean(total_data_x)).T\n",
    "del state_2['최종수율']\n",
    "state_2"
   ]
  },
  {
   "cell_type": "code",
   "execution_count": null,
   "id": "13bc7321-2a78-4f85-942b-d80a8d986dc3",
   "metadata": {},
   "outputs": [],
   "source": [
    "from scipy.stats import pearsonr"
   ]
  },
  {
   "cell_type": "code",
   "execution_count": null,
   "id": "fffbbabc-46d7-45c4-89a9-b784883cb491",
   "metadata": {},
   "outputs": [],
   "source": [
    "state_3 = copy.deepcopy(state_2)"
   ]
  },
  {
   "cell_type": "code",
   "execution_count": null,
   "id": "475c52d0-7c58-4cb8-9165-8cbc8df4a799",
   "metadata": {},
   "outputs": [],
   "source": [
    "for col in state_3.columns :\n",
    "    state_3[col] = pearsonr(np.array(total_data_x[col]).squeeze(), np.array(total_data_y).squeeze())[0]"
   ]
  },
  {
   "cell_type": "code",
   "execution_count": null,
   "id": "af4c6383-5de4-4de1-be15-6fae2e01b944",
   "metadata": {},
   "outputs": [],
   "source": [
    "state_3"
   ]
  }
 ],
 "metadata": {
  "kernelspec": {
   "display_name": "Python 3",
   "language": "python",
   "name": "python3"
  },
  "language_info": {
   "codemirror_mode": {
    "name": "ipython",
    "version": 3
   },
   "file_extension": ".py",
   "mimetype": "text/x-python",
   "name": "python",
   "nbconvert_exporter": "python",
   "pygments_lexer": "ipython3",
   "version": "3.8.8"
  }
 },
 "nbformat": 4,
 "nbformat_minor": 5
}
